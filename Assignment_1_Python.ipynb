{
 "cells": [
  {
   "cell_type": "code",
   "execution_count": 2,
   "id": "173deb9a",
   "metadata": {},
   "outputs": [
    {
     "name": "stdout",
     "output_type": "stream",
     "text": [
      "'Mukesh' and 'Kumar' are not anagrams.\n"
     ]
    }
   ],
   "source": [
    "def is_anagram(str1, str2):\n",
    "    # Remove spaces and convert both strings to lowercase for case-insensitive comparison\n",
    "    str1 = str1.replace(\" \", \"\").lower()\n",
    "    str2 = str2.replace(\" \", \"\").lower()\n",
    "\n",
    "    # If the lengths of the two strings are different, they cannot be anagrams\n",
    "    if len(str1) != len(str2):\n",
    "        return False\n",
    "\n",
    "    # Create dictionaries to store the frequency of characters in each string\n",
    "    char_freq_str1 = {}\n",
    "    char_freq_str2 = {}\n",
    "\n",
    "    # Count the frequency of characters in str1\n",
    "    for char in str1:\n",
    "        char_freq_str1[char] = char_freq_str1.get(char, 0) + 1\n",
    "\n",
    "    # Count the frequency of characters in str2\n",
    "    for char in str2:\n",
    "        char_freq_str2[char] = char_freq_str2.get(char, 0) + 1\n",
    "\n",
    "    # Compare the dictionaries to check if the two strings are anagrams\n",
    "    return char_freq_str1 == char_freq_str2\n",
    "\n",
    "\n",
    "# Example usage:\n",
    "if __name__ == \"__main__\":\n",
    "    string1 = \"Mukesh\"\n",
    "    string2 = \"Kumar\"\n",
    "\n",
    "    if is_anagram(string1, string2):\n",
    "        print(f\"'{string1}' and '{string2}' are anagrams.\")\n",
    "    else:\n",
    "        print(f\"'{string1}' and '{string2}' are not anagrams.\")\n"
   ]
  },
  {
   "cell_type": "code",
   "execution_count": 4,
   "id": "46b6cc1a",
   "metadata": {},
   "outputs": [
    {
     "name": "stdout",
     "output_type": "stream",
     "text": [
      "The maximum value in the dictionary is: 220\n",
      "The minimum value in the dictionary is: 3\n"
     ]
    }
   ],
   "source": [
    "def find_max_min_values(dictionary):\n",
    "    if not dictionary:\n",
    "        return None, None\n",
    "\n",
    "    max_value = float('-inf')  # Initialize max_value to negative infinity\n",
    "    min_value = float('inf')   # Initialize min_value to positive infinity\n",
    "\n",
    "    for value in dictionary.values():\n",
    "        if value > max_value:\n",
    "            max_value = value\n",
    "        if value < min_value:\n",
    "            min_value = value\n",
    "\n",
    "    return max_value, min_value\n",
    "\n",
    "\n",
    "# Example usage:\n",
    "if __name__ == \"__main__\":\n",
    "    sample_dict = {\"a\": 100, \"b\": 51, \"c\": 220, \"d\": 3, \"e\": 15}\n",
    "\n",
    "    max_val, min_val = find_max_min_values(sample_dict)\n",
    "\n",
    "    if max_val is not None and min_val is not None:\n",
    "        print(f\"The maximum value in the dictionary is: {max_val}\")\n",
    "        print(f\"The minimum value in the dictionary is: {min_val}\")\n",
    "    else:\n",
    "        print(\"The dictionary is empty.\")\n"
   ]
  },
  {
   "cell_type": "code",
   "execution_count": 5,
   "id": "5e09e1c2",
   "metadata": {},
   "outputs": [
    {
     "name": "stdout",
     "output_type": "stream",
     "text": [
      "The average of the list is: 15.0\n"
     ]
    }
   ],
   "source": [
    "def calculate_average(numbers):\n",
    "    if not numbers:\n",
    "        return None\n",
    "\n",
    "    total_sum = sum(numbers)\n",
    "    num_elements = len(numbers)\n",
    "\n",
    "    average = total_sum / num_elements\n",
    "    return average\n",
    "\n",
    "\n",
    "# Example usage:\n",
    "if __name__ == \"__main__\":\n",
    "    numbers_list = [5, 10, 15, 20, 25]\n",
    "\n",
    "    average_value = calculate_average(numbers_list)\n",
    "\n",
    "    if average_value is not None:\n",
    "        print(f\"The average of the list is: {average_value}\")\n",
    "    else:\n",
    "        print(\"The list is empty.\")\n"
   ]
  },
  {
   "cell_type": "code",
   "execution_count": 7,
   "id": "97dd076a",
   "metadata": {},
   "outputs": [
    {
     "name": "stdout",
     "output_type": "stream",
     "text": [
      "The string after removing vowels: Hllo, World\n"
     ]
    }
   ],
   "source": [
    "def remove_vowels(input_string):\n",
    "    vowels = \"mjgaeuAEIOU\"  \n",
    "    result = \"\"\n",
    "\n",
    "    for char in input_string:\n",
    "        if char not in vowels:\n",
    "            result += char\n",
    "\n",
    "    return result\n",
    "\n",
    "\n",
    "# Example usage:\n",
    "if __name__ == \"__main__\":\n",
    "    input_string = \"Hello, World\"\n",
    "\n",
    "    modified_string = remove_vowels(input_string)\n",
    "\n",
    "    print(f\"The string after removing vowels: {modified_string}\")\n"
   ]
  },
  {
   "cell_type": "code",
   "execution_count": 8,
   "id": "a37e0def",
   "metadata": {},
   "outputs": [
    {
     "name": "stdout",
     "output_type": "stream",
     "text": [
      "The factorial of 5 is: 120\n"
     ]
    }
   ],
   "source": [
    "def factorial_recursive(n):\n",
    "    if n == 0 or n == 1:\n",
    "        return 1\n",
    "    else:\n",
    "        return n * factorial_recursive(n - 1)\n",
    "\n",
    "\n",
    "# Example usage:\n",
    "if __name__ == \"__main__\":\n",
    "    num = 5\n",
    "    result = factorial_recursive(num)\n",
    "    print(f\"The factorial of {num} is: {result}\")\n"
   ]
  },
  {
   "cell_type": "code",
   "execution_count": 9,
   "id": "be2a2d83",
   "metadata": {},
   "outputs": [
    {
     "name": "stdout",
     "output_type": "stream",
     "text": [
      "Merged and sorted list: [1, 2, 3, 4, 5, 6, 7, 8, 9]\n"
     ]
    }
   ],
   "source": [
    "def merge_sort(arr):\n",
    "    if len(arr) <= 1:\n",
    "        return arr\n",
    "\n",
    "    mid = len(arr) // 2\n",
    "    left_half = arr[:mid]\n",
    "    right_half = arr[mid:]\n",
    "\n",
    "    left_half = merge_sort(left_half)\n",
    "    right_half = merge_sort(right_half)\n",
    "\n",
    "    return merge(left_half, right_half)\n",
    "\n",
    "\n",
    "def merge(left, right):\n",
    "    merged_list = []\n",
    "    left_index, right_index = 0, 0\n",
    "\n",
    "    while left_index < len(left) and right_index < len(right):\n",
    "        if left[left_index] < right[right_index]:\n",
    "            merged_list.append(left[left_index])\n",
    "            left_index += 1\n",
    "        else:\n",
    "            merged_list.append(right[right_index])\n",
    "            right_index += 1\n",
    "\n",
    "    # Add the remaining elements, if any, from both lists\n",
    "    merged_list.extend(left[left_index:])\n",
    "    merged_list.extend(right[right_index:])\n",
    "\n",
    "    return merged_list\n",
    "\n",
    "\n",
    "# Example usage:\n",
    "if __name__ == \"__main__\":\n",
    "    list1 = [3, 5, 1, 9, 8]\n",
    "    list2 = [2, 7, 6, 4]\n",
    "\n",
    "    merged_sorted_list = merge_sort(list1 + list2)\n",
    "\n",
    "    print(\"Merged and sorted list:\", merged_sorted_list)\n"
   ]
  },
  {
   "cell_type": "code",
   "execution_count": 10,
   "id": "04be4db6",
   "metadata": {},
   "outputs": [
    {
     "name": "stdout",
     "output_type": "stream",
     "text": [
      "The GCD of 48 and 18 is: 6\n"
     ]
    }
   ],
   "source": [
    "def gcd(a, b):\n",
    "    while b != 0:\n",
    "        a, b = b, a % b\n",
    "    return a\n",
    "\n",
    "\n",
    "# Example usage:\n",
    "if __name__ == \"__main__\":\n",
    "    num1 = 48\n",
    "    num2 = 18\n",
    "\n",
    "    result = gcd(num1, num2)\n",
    "\n",
    "    print(f\"The GCD of {num1} and {num2} is: {result}\")\n"
   ]
  },
  {
   "cell_type": "code",
   "execution_count": 11,
   "id": "5caa9112",
   "metadata": {},
   "outputs": [
    {
     "name": "stdout",
     "output_type": "stream",
     "text": [
      "The second-largest element in the list is: 15\n"
     ]
    }
   ],
   "source": [
    "def find_second_largest(numbers):\n",
    "    if len(numbers) < 2:\n",
    "        return None\n",
    "\n",
    "    largest = second_largest = float('-inf')\n",
    "\n",
    "    for num in numbers:\n",
    "        if num > largest:\n",
    "            second_largest = largest\n",
    "            largest = num\n",
    "        elif num > second_largest and num != largest:\n",
    "            second_largest = num\n",
    "\n",
    "    return second_largest\n",
    "\n",
    "\n",
    "# Example usage:\n",
    "if __name__ == \"__main__\":\n",
    "    num_list = [10, 5, 20, 15, 8]\n",
    "\n",
    "    second_largest_value = find_second_largest(num_list)\n",
    "\n",
    "    if second_largest_value is not None:\n",
    "        print(f\"The second-largest element in the list is: {second_largest_value}\")\n",
    "    else:\n",
    "        print(\"The list does not contain a second-largest element.\")\n"
   ]
  },
  {
   "cell_type": "code",
   "execution_count": null,
   "id": "fb623590",
   "metadata": {},
   "outputs": [],
   "source": []
  }
 ],
 "metadata": {
  "kernelspec": {
   "display_name": "Python 3 (ipykernel)",
   "language": "python",
   "name": "python3"
  },
  "language_info": {
   "codemirror_mode": {
    "name": "ipython",
    "version": 3
   },
   "file_extension": ".py",
   "mimetype": "text/x-python",
   "name": "python",
   "nbconvert_exporter": "python",
   "pygments_lexer": "ipython3",
   "version": "3.9.12"
  }
 },
 "nbformat": 4,
 "nbformat_minor": 5
}
