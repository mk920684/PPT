{
 "cells": [
  {
   "cell_type": "code",
   "execution_count": null,
   "id": "6172fd80",
   "metadata": {},
   "outputs": [],
   "source": [
    "SELECT name, email\n",
    "FROM Employees;\n"
   ]
  },
  {
   "cell_type": "code",
   "execution_count": null,
   "id": "e913a2c7",
   "metadata": {},
   "outputs": [],
   "source": [
    "SELECT *\n",
    "FROM Customers\n",
    "WHERE City = 'New York';\n"
   ]
  },
  {
   "cell_type": "code",
   "execution_count": null,
   "id": "a6e77458",
   "metadata": {},
   "outputs": [],
   "source": [
    "SELECT *\n",
    "FROM Users\n",
    "ORDER BY DateOfBirth DESC;\n"
   ]
  },
  {
   "cell_type": "code",
   "execution_count": null,
   "id": "53432818",
   "metadata": {},
   "outputs": [],
   "source": [
    "SELECT *\n",
    "FROM Users\n",
    "ORDER BY RegistrationDate ASC;\n"
   ]
  },
  {
   "cell_type": "code",
   "execution_count": null,
   "id": "6ee8d29d",
   "metadata": {},
   "outputs": [],
   "source": [
    "SELECT name, position, salary\n",
    "FROM Employees\n",
    "ORDER BY salary DESC\n",
    "LIMIT 1;\n"
   ]
  },
  {
   "cell_type": "code",
   "execution_count": null,
   "id": "1706268f",
   "metadata": {},
   "outputs": [],
   "source": [
    "SELECT *\n",
    "FROM Customers\n",
    "WHERE Phone LIKE '+1-___-___-____';\n"
   ]
  },
  {
   "cell_type": "code",
   "execution_count": null,
   "id": "fcd1f7aa",
   "metadata": {},
   "outputs": [],
   "source": [
    "SELECT customer_name, SUM(purchase_amount) AS total_purchase_amount\n",
    "FROM Orders\n",
    "GROUP BY customer_name\n",
    "ORDER BY total_purchase_amount DESC\n",
    "LIMIT 5;\n"
   ]
  },
  {
   "cell_type": "code",
   "execution_count": null,
   "id": "5324982e",
   "metadata": {},
   "outputs": [],
   "source": [
    "SELECT \n",
    "    category_name,\n",
    "    SUM(sales_amount) AS total_sales_amount,\n",
    "    (SUM(sales_amount) / (SELECT SUM(sales_amount) FROM Sales)) * 100 AS percentage_of_sales\n",
    "FROM Sales\n",
    "GROUP BY category_name;\n"
   ]
  },
  {
   "cell_type": "code",
   "execution_count": null,
   "id": "70325d39",
   "metadata": {},
   "outputs": [],
   "source": []
  }
 ],
 "metadata": {
  "kernelspec": {
   "display_name": "Python 3 (ipykernel)",
   "language": "python",
   "name": "python3"
  },
  "language_info": {
   "codemirror_mode": {
    "name": "ipython",
    "version": 3
   },
   "file_extension": ".py",
   "mimetype": "text/x-python",
   "name": "python",
   "nbconvert_exporter": "python",
   "pygments_lexer": "ipython3",
   "version": "3.9.12"
  }
 },
 "nbformat": 4,
 "nbformat_minor": 5
}
