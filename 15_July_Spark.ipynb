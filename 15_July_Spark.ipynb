{
 "cells": [
  {
   "cell_type": "code",
   "execution_count": 1,
   "id": "3d16528a",
   "metadata": {},
   "outputs": [
    {
     "ename": "ModuleNotFoundError",
     "evalue": "No module named 'pyspark'",
     "output_type": "error",
     "traceback": [
      "\u001b[1;31m---------------------------------------------------------------------------\u001b[0m",
      "\u001b[1;31mModuleNotFoundError\u001b[0m                       Traceback (most recent call last)",
      "Input \u001b[1;32mIn [1]\u001b[0m, in \u001b[0;36m<cell line: 1>\u001b[1;34m()\u001b[0m\n\u001b[1;32m----> 1\u001b[0m \u001b[38;5;28;01mfrom\u001b[39;00m \u001b[38;5;21;01mpyspark\u001b[39;00m \u001b[38;5;28;01mimport\u001b[39;00m SparkContext, SparkConf\n\u001b[0;32m      3\u001b[0m \u001b[38;5;66;03m# Create a SparkConf and SparkContext\u001b[39;00m\n\u001b[0;32m      4\u001b[0m conf \u001b[38;5;241m=\u001b[39m SparkConf()\u001b[38;5;241m.\u001b[39msetAppName(\u001b[38;5;124m\"\u001b[39m\u001b[38;5;124mCreateRDD\u001b[39m\u001b[38;5;124m\"\u001b[39m)\n",
      "\u001b[1;31mModuleNotFoundError\u001b[0m: No module named 'pyspark'"
     ]
    }
   ],
   "source": [
    "Q1.\n",
    "a)\n",
    "\n",
    "from pyspark import SparkContext, SparkConf\n",
    "\n",
    "# Create a SparkConf and SparkContext\n",
    "conf = SparkConf().setAppName(\"CreateRDD\")\n",
    "sc = SparkContext(conf=conf)\n",
    "\n",
    "# Local data source (a list of numbers)\n",
    "data = [11, 2, 3, 4, 5, 6, 7, 8, 9, 10]\n",
    "\n",
    "# Create an RDD from the local data source\n",
    "rdd = sc.parallelize(data)\n",
    "\n",
    "# Print the RDD elements\n",
    "print(\"RDD elements:\", rdd.collect())\n",
    "\n",
    "# Stop the SparkContext\n",
    "sc.stop()\n"
   ]
  },
  {
   "cell_type": "code",
   "execution_count": null,
   "id": "bcf92ea3",
   "metadata": {},
   "outputs": [],
   "source": [
    "#b)\n",
    "\n",
    "rdd_1 = rdd.filter(lambda x: x % 2 == 0)\n",
    "\n",
    "rdd_1.collect()"
   ]
  },
  {
   "cell_type": "code",
   "execution_count": null,
   "id": "3bcca889",
   "metadata": {},
   "outputs": [],
   "source": [
    "#Q2.\n",
    "a)\n",
    "\n",
    "from pyspark.sql import SparkSession\n",
    "\n",
    "# Create a SparkSession\n",
    "spark = SparkSession.builder \\\n",
    "    .appName(\"LoadCSVtoDataFrame\") \\\n",
    "    .getOrCreate()\n",
    "\n",
    "# CSV file path\n",
    "file_path = \"data.csv\"\n",
    "\n",
    "# Load the CSV file into a Spark DataFrame\n",
    "df = spark.read \\\n",
    "    .format(\"csv\") \\\n",
    "    .option(\"header\", \"true\") \\  # Set this to \"false\" if your CSV file doesn't have a header\n",
    "    .load(file_path)\n",
    "\n",
    "# Show the DataFrame\n",
    "df.show()\n",
    "\n",
    "# Stop the SparkSession\n",
    "spark.stop()\n"
   ]
  }
 ],
 "metadata": {
  "kernelspec": {
   "display_name": "Python 3 (ipykernel)",
   "language": "python",
   "name": "python3"
  },
  "language_info": {
   "codemirror_mode": {
    "name": "ipython",
    "version": 3
   },
   "file_extension": ".py",
   "mimetype": "text/x-python",
   "name": "python",
   "nbconvert_exporter": "python",
   "pygments_lexer": "ipython3",
   "version": "3.9.12"
  }
 },
 "nbformat": 4,
 "nbformat_minor": 5
}
